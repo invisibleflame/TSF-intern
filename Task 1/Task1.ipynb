{
 "cells": [
  {
   "cell_type": "code",
   "execution_count": 2,
   "metadata": {
    "colab": {
     "base_uri": "https://localhost:8080/",
     "height": 85
    },
    "id": "OJxJVGtOGJRW",
    "outputId": "d63ad74f-6411-45e9-ce65-91e482da1cf8"
   },
   "outputs": [
    {
     "name": "stdout",
     "output_type": "stream",
     "text": [
      "  hours scores\n",
      "1   2.5     21\n",
      "2   5.1     47\n",
      "3   3.2     27\n"
     ]
    }
   ],
   "source": [
    "import pandas as pd\n",
    "import numpy as np\n",
    "from sklearn.linear_model import LinearRegression\n",
    "from sklearn.model_selection import train_test_split \n",
    "import matplotlib.pyplot as plt \n",
    "\n",
    "df = pd.read_csv('student_scores - student_scores.csv', sep=\",\", header=None, names=['hours','scores'])\n",
    "df=df[1:]\n",
    "print(df.head(3))"
   ]
  },
  {
   "cell_type": "markdown",
   "metadata": {
    "id": "K88UqEucZJbm"
   },
   "source": [
    "<h1>Data Preprocessing</h1>\n",
    "Preparing the data for linear regression"
   ]
  },
  {
   "cell_type": "code",
   "execution_count": 3,
   "metadata": {
    "id": "I9Y89mK2Wu7I"
   },
   "outputs": [],
   "source": [
    "df=df.values\n",
    "x=df[:,0]\n",
    "x=np.float32(x)\n",
    "x = np.array([x]).reshape((-1, 1))\n",
    "y=df[:,1]\n",
    "y=np.float32(y)"
   ]
  },
  {
   "cell_type": "code",
   "execution_count": 4,
   "metadata": {
    "colab": {
     "base_uri": "https://localhost:8080/",
     "height": 333
    },
    "id": "SSz3eW7uT8U7",
    "outputId": "dcbecdfd-069b-49e4-cb21-b5b37661547c"
   },
   "outputs": [
    {
     "name": "stdout",
     "output_type": "stream",
     "text": [
      "[[1.1]\n",
      " [3.3]\n",
      " [1.9]] \n",
      " [17. 42. 24.]\n"
     ]
    },
    {
     "data": {
      "image/png": "[encoded data removed]",
      "text/plain": [
       "<Figure size 432x288 with 1 Axes>"
      ]
     },
     "metadata": {
      "needs_background": "light"
     },
     "output_type": "display_data"
    }
   ],
   "source": [
    "x_train, x_test, y_train, y_test = train_test_split(x, y, \n",
    "                            test_size=0.1, random_state=1)\n",
    "print(x_test,'\\n',y_test)\n",
    "plt.scatter(x,y)\n",
    "plt.show()"
   ]
  },
  {
   "cell_type": "markdown",
   "metadata": {
    "id": "URWtnLj0ZbAf"
   },
   "source": [
    "<h1> Creating and Training the Model</h1>\n",
    "I have used the basic linear regression model from sklearn"
   ]
  },
  {
   "cell_type": "code",
   "execution_count": 5,
   "metadata": {
    "colab": {
     "base_uri": "https://localhost:8080/",
     "height": 265
    },
    "id": "IkbtAAPwSRuy",
    "outputId": "22f8877f-937b-410f-e7e0-78c4d793562c"
   },
   "outputs": [
    {
     "data": {
      "image/png": "[encoded data removed]",
      "text/plain": [
       "<Figure size 432x288 with 1 Axes>"
      ]
     },
     "metadata": {
      "needs_background": "light"
     },
     "output_type": "display_data"
    }
   ],
   "source": [
    "model = LinearRegression()\n",
    "model.fit(x_train, y_train)\n",
    "coeff=model.coef_\n",
    "intercept=model.intercept_\n",
    "linear_regression_line= intercept + coeff*x\n",
    "plt.scatter(x,y)\n",
    "plt.plot(x,linear_regression_line)\n",
    "plt.show()"
   ]
  },
  {
   "cell_type": "markdown",
   "metadata": {
    "id": "Oh_kVg5zZsIj"
   },
   "source": [
    "<h1> Testing the Model"
   ]
  },
  {
   "cell_type": "code",
   "execution_count": 6,
   "metadata": {
    "colab": {
     "base_uri": "https://localhost:8080/",
     "height": 34
    },
    "id": "nUOIPyeLSW8P",
    "outputId": "7d0d11e4-8e35-4509-d45e-482007fb78c0"
   },
   "outputs": [
    {
     "name": "stdout",
     "output_type": "stream",
     "text": [
      "[11.120116 33.383686 19.21596 ]\n"
     ]
    }
   ],
   "source": [
    "y_predicted = model.predict(x_test)\n",
    "print(y_predicted)"
   ]
  },
  {
   "cell_type": "code",
   "execution_count": 7,
   "metadata": {
    "colab": {
     "base_uri": "https://localhost:8080/",
     "height": 34
    },
    "id": "WTJswh0eSyJs",
    "outputId": "1e7e6d01-6cdf-4d56-e22b-832b279e12cc"
   },
   "outputs": [
    {
     "name": "stdout",
     "output_type": "stream",
     "text": [
      "Absolute Mean Error in prediction:  6.4267464\n"
     ]
    }
   ],
   "source": [
    "Error = np.mean(abs(y_test - y_predicted))\n",
    "print('Absolute Mean Error in prediction: ', Error)"
   ]
  },
  {
   "cell_type": "code",
   "execution_count": 8,
   "metadata": {
    "colab": {
     "base_uri": "https://localhost:8080/",
     "height": 34
    },
    "id": "pVvzYlUGYlvV",
    "outputId": "ccb5a8d5-2ffa-4d09-8937-3b2fb75bedac"
   },
   "outputs": [
    {
     "name": "stdout",
     "output_type": "stream",
     "text": [
      "The predicted marks after studying for 9.25hrs a day:  [93.59652138]\n"
     ]
    }
   ],
   "source": [
    "#testing for hours=9.25\n",
    "custom_input=9.25\n",
    "hours=np.array([custom_input]).reshape((-1,1))\n",
    "y_pred=model.predict(hours)\n",
    "print(f\"The predicted marks after studying for {custom_input}hrs a day: \", y_pred)"
   ]
  },
  {
   "cell_type": "code",
   "execution_count": null,
   "metadata": {
    "id": "fNRE_f6-aRzi"
   },
   "outputs": [],
   "source": []
  }
 ],
 "metadata": {
  "colab": {
   "name": "Task1.ipynb",
   "provenance": []
  },
  "kernelspec": {
   "display_name": "Python 3",
   "language": "python",
   "name": "python3"
  },
  "language_info": {
   "codemirror_mode": {
    "name": "ipython",
    "version": 3
   },
   "file_extension": ".py",
   "mimetype": "text/x-python",
   "name": "python",
   "nbconvert_exporter": "python",
   "pygments_lexer": "ipython3",
   "version": "3.7.7"
  }
 },
 "nbformat": 4,
 "nbformat_minor": 1
}
